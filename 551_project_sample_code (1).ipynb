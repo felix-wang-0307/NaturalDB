{
  "nbformat": 4,
  "nbformat_minor": 0,
  "metadata": {
    "colab": {
      "provenance": []
    },
    "kernelspec": {
      "name": "python3",
      "display_name": "Python 3"
    },
    "language_info": {
      "name": "python"
    }
  },
  "cells": [
    {
      "cell_type": "code",
      "execution_count": 1,
      "metadata": {
        "colab": {
          "base_uri": "https://localhost:8080/"
        },
        "id": "rw5-IazCNHZf",
        "outputId": "9f5aec17-15e8-4eed-fdd9-ceab7491fb94"
      },
      "outputs": [
        {
          "output_type": "execute_result",
          "data": {
            "text/plain": [
              "({'name': 'john', 'age': 25.3, 'gender': 'male'}, ' ')"
            ]
          },
          "metadata": {},
          "execution_count": 1
        }
      ],
      "source": [
        "# It parses a string out of str and returns the string and rest of str\n",
        "def parse_string(str):\n",
        "  str = str.lstrip() # remove any spaces before string\n",
        "  assert(str[0] == '\"') # now we should see beginning of string\n",
        "  str = str[1:] # skip the start quote\n",
        "  end_pos = str.find('\"')\n",
        "  mystr = str[:end_pos] # found string\n",
        "  rest = str[end_pos + 1:] # skip the end quote\n",
        "  return mystr, rest\n",
        "\n",
        "# It parses a number, either int or float, and returns\n",
        "# its value and rest of str.\n",
        "def parse_number(str):\n",
        "  str = str.lstrip()\n",
        "\n",
        "  chs = ''\n",
        "  is_float = False\n",
        "  i = 0\n",
        "  for ch in str:\n",
        "    if (ch.isdigit() or ch == '.' or ch == '-'):\n",
        "      if (ch == '.'):\n",
        "        is_float = True\n",
        "      chs += ch\n",
        "      i += 1\n",
        "    else:\n",
        "      break\n",
        "\n",
        "  str = str[i:]\n",
        "  value = float(chs) if is_float else int(chs)\n",
        "  return value, str\n",
        "\n",
        "# It consumes a ':'\n",
        "def parse_colon(str):\n",
        "  str = str.lstrip()\n",
        "  assert(str[0] == ':')\n",
        "  str = str[1:] # skip ':'\n",
        "  return str\n",
        "\n",
        "# It parses a dictinary out of str and returns rest of str\n",
        "def parse_object(str):\n",
        "  str = str.lstrip() # remove any extra spaces\n",
        "  assert(str[0] == '{') # now we should see {\n",
        "  str = str[1:] # skip {\n",
        "\n",
        "  obj = {} # to store key: value pairs\n",
        "\n",
        "  # parse key: value pair\n",
        "  while (True):\n",
        "    str = str.lstrip()\n",
        "\n",
        "    if (len(str) == 0):\n",
        "      raise ValueError('Expecting \"}\" but reach the end of string!')\n",
        "    elif str[0] == '}': # end of json object\n",
        "      str = str[1:] # consumes '}'\n",
        "      return obj, str\n",
        "    elif str[0] == ',':\n",
        "      str = str[1:] # skip ','\n",
        "    else: # ready for a new key-value pair\n",
        "      key, str = parse_string(str)\n",
        "\n",
        "      str = parse_colon(str) # skip colon\n",
        "      str = str.lstrip()\n",
        "\n",
        "      # note simplification here, it assumes value is either string or number!\n",
        "      if (str.startswith('\"')):\n",
        "        value, str = parse_string(str)\n",
        "      else:\n",
        "        value, str = parse_number(str)\n",
        "\n",
        "      obj[key] = value\n",
        "\n",
        "\n",
        "str = ' { \"name\": \"john\", \"age\": 25.3, \"gender\": \"male\" } '\n",
        "\n",
        "obj, str = parse_object(str)\n",
        "obj, str"
      ]
    }
  ]
}